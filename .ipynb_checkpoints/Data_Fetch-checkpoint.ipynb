{
 "cells": [
  {
   "cell_type": "code",
   "execution_count": 2,
   "id": "63008e9b-29ee-4b4d-a1be-a93098f84c32",
   "metadata": {},
   "outputs": [
    {
     "data": {
      "text/plain": [
       "['/Users/ishankvasania/anaconda3/envs/echopype/lib/python3.10/site-packages']"
      ]
     },
     "execution_count": 2,
     "metadata": {},
     "output_type": "execute_result"
    }
   ],
   "source": [
    "import site\n",
    "site.getsitepackages()\n"
   ]
  },
  {
   "cell_type": "code",
   "execution_count": 2,
   "id": "83e57e5a",
   "metadata": {
    "scrolled": true
   },
   "outputs": [
    {
     "ename": "TypeError",
     "evalue": "unhashable type: 'list'",
     "output_type": "error",
     "traceback": [
      "\u001b[0;31m---------------------------------------------------------------------------\u001b[0m",
      "\u001b[0;31mTypeError\u001b[0m                                 Traceback (most recent call last)",
      "Cell \u001b[0;32mIn[2], line 16\u001b[0m\n\u001b[1;32m     14\u001b[0m \u001b[38;5;28;01mfrom\u001b[39;00m \u001b[38;5;21;01mechopype\u001b[39;00m \u001b[38;5;28;01mimport\u001b[39;00m open_raw\n\u001b[1;32m     15\u001b[0m \u001b[38;5;28;01mimport\u001b[39;00m \u001b[38;5;21;01mdask\u001b[39;00m\n\u001b[0;32m---> 16\u001b[0m \u001b[38;5;28;01mfrom\u001b[39;00m \u001b[38;5;21;01mdistributed\u001b[39;00m \u001b[38;5;28;01mimport\u001b[39;00m Client\n\u001b[1;32m     17\u001b[0m \u001b[38;5;28;01mfrom\u001b[39;00m \u001b[38;5;21;01mtqdm\u001b[39;00m \u001b[38;5;28;01mimport\u001b[39;00m tqdm\n\u001b[1;32m     18\u001b[0m \u001b[38;5;28;01mimport\u001b[39;00m \u001b[38;5;21;01mrequests\u001b[39;00m\n",
      "File \u001b[0;32m/Library/Frameworks/Python.framework/Versions/3.9/lib/python3.9/site-packages/distributed/__init__.py:23\u001b[0m\n\u001b[1;32m     20\u001b[0m \u001b[38;5;28;01mfrom\u001b[39;00m \u001b[38;5;21;01mdask\u001b[39;00m\u001b[38;5;21;01m.\u001b[39;00m\u001b[38;5;21;01mconfig\u001b[39;00m \u001b[38;5;28;01mimport\u001b[39;00m config  \u001b[38;5;66;03m# type: ignore\u001b[39;00m\n\u001b[1;32m     22\u001b[0m \u001b[38;5;28;01mfrom\u001b[39;00m \u001b[38;5;21;01mdistributed\u001b[39;00m\u001b[38;5;21;01m.\u001b[39;00m\u001b[38;5;21;01m_version\u001b[39;00m \u001b[38;5;28;01mimport\u001b[39;00m get_versions\n\u001b[0;32m---> 23\u001b[0m \u001b[38;5;28;01mfrom\u001b[39;00m \u001b[38;5;21;01mdistributed\u001b[39;00m\u001b[38;5;21;01m.\u001b[39;00m\u001b[38;5;21;01mactor\u001b[39;00m \u001b[38;5;28;01mimport\u001b[39;00m Actor, ActorFuture, BaseActorFuture\n\u001b[1;32m     24\u001b[0m \u001b[38;5;28;01mfrom\u001b[39;00m \u001b[38;5;21;01mdistributed\u001b[39;00m\u001b[38;5;21;01m.\u001b[39;00m\u001b[38;5;21;01mclient\u001b[39;00m \u001b[38;5;28;01mimport\u001b[39;00m (\n\u001b[1;32m     25\u001b[0m     Client,\n\u001b[1;32m     26\u001b[0m     CompatibleExecutor,\n\u001b[0;32m   (...)\u001b[0m\n\u001b[1;32m     35\u001b[0m     wait,\n\u001b[1;32m     36\u001b[0m )\n\u001b[1;32m     37\u001b[0m \u001b[38;5;28;01mfrom\u001b[39;00m \u001b[38;5;21;01mdistributed\u001b[39;00m\u001b[38;5;21;01m.\u001b[39;00m\u001b[38;5;21;01mcore\u001b[39;00m \u001b[38;5;28;01mimport\u001b[39;00m Status, connect, rpc\n",
      "File \u001b[0;32m/Library/Frameworks/Python.framework/Versions/3.9/lib/python3.9/site-packages/distributed/actor.py:13\u001b[0m\n\u001b[1;32m      9\u001b[0m \u001b[38;5;28;01mfrom\u001b[39;00m \u001b[38;5;21;01mtyping\u001b[39;00m \u001b[38;5;28;01mimport\u001b[39;00m Generic, Literal, NoReturn, TypeVar\n\u001b[1;32m     11\u001b[0m \u001b[38;5;28;01mfrom\u001b[39;00m \u001b[38;5;21;01mtornado\u001b[39;00m\u001b[38;5;21;01m.\u001b[39;00m\u001b[38;5;21;01mioloop\u001b[39;00m \u001b[38;5;28;01mimport\u001b[39;00m IOLoop\n\u001b[0;32m---> 13\u001b[0m \u001b[38;5;28;01mfrom\u001b[39;00m \u001b[38;5;21;01mdistributed\u001b[39;00m\u001b[38;5;21;01m.\u001b[39;00m\u001b[38;5;21;01mclient\u001b[39;00m \u001b[38;5;28;01mimport\u001b[39;00m Future\n\u001b[1;32m     14\u001b[0m \u001b[38;5;28;01mfrom\u001b[39;00m \u001b[38;5;21;01mdistributed\u001b[39;00m\u001b[38;5;21;01m.\u001b[39;00m\u001b[38;5;21;01mprotocol\u001b[39;00m \u001b[38;5;28;01mimport\u001b[39;00m to_serialize\n\u001b[1;32m     15\u001b[0m \u001b[38;5;28;01mfrom\u001b[39;00m \u001b[38;5;21;01mdistributed\u001b[39;00m\u001b[38;5;21;01m.\u001b[39;00m\u001b[38;5;21;01mutils\u001b[39;00m \u001b[38;5;28;01mimport\u001b[39;00m LateLoopEvent, iscoroutinefunction, sync, thread_state\n",
      "File \u001b[0;32m/Library/Frameworks/Python.framework/Versions/3.9/lib/python3.9/site-packages/distributed/client.py:117\u001b[0m\n\u001b[1;32m     94\u001b[0m \u001b[38;5;28;01mfrom\u001b[39;00m \u001b[38;5;21;01mdistributed\u001b[39;00m\u001b[38;5;21;01m.\u001b[39;00m\u001b[38;5;21;01mutils\u001b[39;00m \u001b[38;5;28;01mimport\u001b[39;00m (\n\u001b[1;32m     95\u001b[0m     CancelledError,\n\u001b[1;32m     96\u001b[0m     LoopRunner,\n\u001b[0;32m   (...)\u001b[0m\n\u001b[1;32m    107\u001b[0m     thread_state,\n\u001b[1;32m    108\u001b[0m )\n\u001b[1;32m    109\u001b[0m \u001b[38;5;28;01mfrom\u001b[39;00m \u001b[38;5;21;01mdistributed\u001b[39;00m\u001b[38;5;21;01m.\u001b[39;00m\u001b[38;5;21;01mutils_comm\u001b[39;00m \u001b[38;5;28;01mimport\u001b[39;00m (\n\u001b[1;32m    110\u001b[0m     WrappedKey,\n\u001b[1;32m    111\u001b[0m     gather_from_workers,\n\u001b[0;32m   (...)\u001b[0m\n\u001b[1;32m    115\u001b[0m     unpack_remotedata,\n\u001b[1;32m    116\u001b[0m )\n\u001b[0;32m--> 117\u001b[0m \u001b[38;5;28;01mfrom\u001b[39;00m \u001b[38;5;21;01mdistributed\u001b[39;00m\u001b[38;5;21;01m.\u001b[39;00m\u001b[38;5;21;01mworker\u001b[39;00m \u001b[38;5;28;01mimport\u001b[39;00m get_client, get_worker, secede\n\u001b[1;32m    119\u001b[0m logger \u001b[38;5;241m=\u001b[39m logging\u001b[38;5;241m.\u001b[39mgetLogger(\u001b[38;5;18m__name__\u001b[39m)\n\u001b[1;32m    121\u001b[0m _global_clients: weakref\u001b[38;5;241m.\u001b[39mWeakValueDictionary[\n\u001b[1;32m    122\u001b[0m     \u001b[38;5;28mint\u001b[39m, Client\n\u001b[1;32m    123\u001b[0m ] \u001b[38;5;241m=\u001b[39m weakref\u001b[38;5;241m.\u001b[39mWeakValueDictionary()\n",
      "File \u001b[0;32m/Library/Frameworks/Python.framework/Versions/3.9/lib/python3.9/site-packages/distributed/worker.py:120\u001b[0m\n\u001b[1;32m    118\u001b[0m \u001b[38;5;28;01mfrom\u001b[39;00m \u001b[38;5;21;01mdistributed\u001b[39;00m\u001b[38;5;21;01m.\u001b[39;00m\u001b[38;5;21;01mutils_perf\u001b[39;00m \u001b[38;5;28;01mimport\u001b[39;00m disable_gc_diagnosis, enable_gc_diagnosis\n\u001b[1;32m    119\u001b[0m \u001b[38;5;28;01mfrom\u001b[39;00m \u001b[38;5;21;01mdistributed\u001b[39;00m\u001b[38;5;21;01m.\u001b[39;00m\u001b[38;5;21;01mversions\u001b[39;00m \u001b[38;5;28;01mimport\u001b[39;00m get_versions\n\u001b[0;32m--> 120\u001b[0m \u001b[38;5;28;01mfrom\u001b[39;00m \u001b[38;5;21;01mdistributed\u001b[39;00m\u001b[38;5;21;01m.\u001b[39;00m\u001b[38;5;21;01mworker_memory\u001b[39;00m \u001b[38;5;28;01mimport\u001b[39;00m (\n\u001b[1;32m    121\u001b[0m     DeprecatedMemoryManagerAttribute,\n\u001b[1;32m    122\u001b[0m     DeprecatedMemoryMonitor,\n\u001b[1;32m    123\u001b[0m     WorkerDataParameter,\n\u001b[1;32m    124\u001b[0m     WorkerMemoryManager,\n\u001b[1;32m    125\u001b[0m )\n\u001b[1;32m    126\u001b[0m \u001b[38;5;28;01mfrom\u001b[39;00m \u001b[38;5;21;01mdistributed\u001b[39;00m\u001b[38;5;21;01m.\u001b[39;00m\u001b[38;5;21;01mworker_state_machine\u001b[39;00m \u001b[38;5;28;01mimport\u001b[39;00m (\n\u001b[1;32m    127\u001b[0m     AcquireReplicasEvent,\n\u001b[1;32m    128\u001b[0m     BaseWorker,\n\u001b[0;32m   (...)\u001b[0m\n\u001b[1;32m    152\u001b[0m     WorkerState,\n\u001b[1;32m    153\u001b[0m )\n\u001b[1;32m    155\u001b[0m \u001b[38;5;28;01mif\u001b[39;00m TYPE_CHECKING:\n\u001b[1;32m    156\u001b[0m     \u001b[38;5;66;03m# FIXME import from typing (needs Python >=3.10)\u001b[39;00m\n",
      "File \u001b[0;32m/Library/Frameworks/Python.framework/Versions/3.9/lib/python3.9/site-packages/distributed/worker_memory.py:56\u001b[0m\n\u001b[1;32m     53\u001b[0m     \u001b[38;5;28;01mfrom\u001b[39;00m \u001b[38;5;21;01mdistributed\u001b[39;00m\u001b[38;5;21;01m.\u001b[39;00m\u001b[38;5;21;01mnanny\u001b[39;00m \u001b[38;5;28;01mimport\u001b[39;00m Nanny\n\u001b[1;32m     54\u001b[0m     \u001b[38;5;28;01mfrom\u001b[39;00m \u001b[38;5;21;01mdistributed\u001b[39;00m\u001b[38;5;21;01m.\u001b[39;00m\u001b[38;5;21;01mworker\u001b[39;00m \u001b[38;5;28;01mimport\u001b[39;00m Worker\n\u001b[0;32m---> 56\u001b[0m WorkerDataParameter: TypeAlias \u001b[38;5;241m=\u001b[39m \u001b[43mUnion\u001b[49m\u001b[43m[\u001b[49m\n\u001b[1;32m     57\u001b[0m \u001b[43m    \u001b[49m\u001b[38;5;66;43;03m# pre-initialized\u001b[39;49;00m\n\u001b[1;32m     58\u001b[0m \u001b[43m    \u001b[49m\u001b[43mMutableMapping\u001b[49m\u001b[43m[\u001b[49m\u001b[43mKey\u001b[49m\u001b[43m,\u001b[49m\u001b[43m \u001b[49m\u001b[38;5;28;43mobject\u001b[39;49m\u001b[43m]\u001b[49m\u001b[43m,\u001b[49m\n\u001b[1;32m     59\u001b[0m \u001b[43m    \u001b[49m\u001b[38;5;66;43;03m# constructor\u001b[39;49;00m\n\u001b[1;32m     60\u001b[0m \u001b[43m    \u001b[49m\u001b[43mCallable\u001b[49m\u001b[43m[\u001b[49m\u001b[43m[\u001b[49m\u001b[43m]\u001b[49m\u001b[43m,\u001b[49m\u001b[43m \u001b[49m\u001b[43mMutableMapping\u001b[49m\u001b[43m[\u001b[49m\u001b[43mKey\u001b[49m\u001b[43m,\u001b[49m\u001b[43m \u001b[49m\u001b[38;5;28;43mobject\u001b[39;49m\u001b[43m]\u001b[49m\u001b[43m]\u001b[49m\u001b[43m,\u001b[49m\n\u001b[1;32m     61\u001b[0m \u001b[43m    \u001b[49m\u001b[38;5;66;43;03m# constructor, passed worker.local_directory\u001b[39;49;00m\n\u001b[1;32m     62\u001b[0m \u001b[43m    \u001b[49m\u001b[43mCallable\u001b[49m\u001b[43m[\u001b[49m\u001b[43m[\u001b[49m\u001b[38;5;28;43mstr\u001b[39;49m\u001b[43m]\u001b[49m\u001b[43m,\u001b[49m\u001b[43m \u001b[49m\u001b[43mMutableMapping\u001b[49m\u001b[43m[\u001b[49m\u001b[43mKey\u001b[49m\u001b[43m,\u001b[49m\u001b[43m \u001b[49m\u001b[38;5;28;43mobject\u001b[39;49m\u001b[43m]\u001b[49m\u001b[43m]\u001b[49m\u001b[43m,\u001b[49m\n\u001b[1;32m     63\u001b[0m \u001b[43m    \u001b[49m\u001b[38;5;66;43;03m# (constructor, kwargs to constructor)\u001b[39;49;00m\n\u001b[1;32m     64\u001b[0m \u001b[43m    \u001b[49m\u001b[38;5;28;43mtuple\u001b[39;49m\u001b[43m[\u001b[49m\u001b[43mCallable\u001b[49m\u001b[43m[\u001b[49m\u001b[38;5;241;43m.\u001b[39;49m\u001b[38;5;241;43m.\u001b[39;49m\u001b[38;5;241;43m.\u001b[39;49m\u001b[43m,\u001b[49m\u001b[43m \u001b[49m\u001b[43mMutableMapping\u001b[49m\u001b[43m[\u001b[49m\u001b[43mKey\u001b[49m\u001b[43m,\u001b[49m\u001b[43m \u001b[49m\u001b[38;5;28;43mobject\u001b[39;49m\u001b[43m]\u001b[49m\u001b[43m]\u001b[49m\u001b[43m,\u001b[49m\u001b[43m \u001b[49m\u001b[38;5;28;43mdict\u001b[39;49m\u001b[43m[\u001b[49m\u001b[38;5;28;43mstr\u001b[39;49m\u001b[43m,\u001b[49m\u001b[43m \u001b[49m\u001b[43mAny\u001b[49m\u001b[43m]\u001b[49m\u001b[43m]\u001b[49m\u001b[43m,\u001b[49m\n\u001b[1;32m     65\u001b[0m \u001b[43m    \u001b[49m\u001b[38;5;66;43;03m# initialize internally\u001b[39;49;00m\n\u001b[1;32m     66\u001b[0m \u001b[43m    \u001b[49m\u001b[38;5;28;43;01mNone\u001b[39;49;00m\u001b[43m,\u001b[49m\n\u001b[1;32m     67\u001b[0m \u001b[43m]\u001b[49m\n\u001b[1;32m     69\u001b[0m worker_logger \u001b[38;5;241m=\u001b[39m logging\u001b[38;5;241m.\u001b[39mgetLogger(\u001b[38;5;124m\"\u001b[39m\u001b[38;5;124mdistributed.worker.memory\u001b[39m\u001b[38;5;124m\"\u001b[39m)\n\u001b[1;32m     70\u001b[0m worker_logger\u001b[38;5;241m.\u001b[39maddFilter(RateLimiterFilter(\u001b[38;5;124mr\u001b[39m\u001b[38;5;124m\"\u001b[39m\u001b[38;5;124mUnmanaged memory use is high\u001b[39m\u001b[38;5;124m\"\u001b[39m))\n",
      "File \u001b[0;32m/Library/Frameworks/Python.framework/Versions/3.9/lib/python3.9/typing.py:243\u001b[0m, in \u001b[0;36m_tp_cache.<locals>.inner\u001b[0;34m(*args, **kwds)\u001b[0m\n\u001b[1;32m    241\u001b[0m \u001b[38;5;28;01mexcept\u001b[39;00m \u001b[38;5;167;01mTypeError\u001b[39;00m:\n\u001b[1;32m    242\u001b[0m     \u001b[38;5;28;01mpass\u001b[39;00m  \u001b[38;5;66;03m# All real errors (not unhashable args) are raised below.\u001b[39;00m\n\u001b[0;32m--> 243\u001b[0m \u001b[38;5;28;01mreturn\u001b[39;00m \u001b[43mfunc\u001b[49m\u001b[43m(\u001b[49m\u001b[38;5;241;43m*\u001b[39;49m\u001b[43margs\u001b[49m\u001b[43m,\u001b[49m\u001b[43m \u001b[49m\u001b[38;5;241;43m*\u001b[39;49m\u001b[38;5;241;43m*\u001b[39;49m\u001b[43mkwds\u001b[49m\u001b[43m)\u001b[49m\n",
      "File \u001b[0;32m/Library/Frameworks/Python.framework/Versions/3.9/lib/python3.9/typing.py:316\u001b[0m, in \u001b[0;36m_SpecialForm.__getitem__\u001b[0;34m(self, parameters)\u001b[0m\n\u001b[1;32m    314\u001b[0m \u001b[38;5;129m@_tp_cache\u001b[39m\n\u001b[1;32m    315\u001b[0m \u001b[38;5;28;01mdef\u001b[39;00m \u001b[38;5;21m__getitem__\u001b[39m(\u001b[38;5;28mself\u001b[39m, parameters):\n\u001b[0;32m--> 316\u001b[0m     \u001b[38;5;28;01mreturn\u001b[39;00m \u001b[38;5;28;43mself\u001b[39;49m\u001b[38;5;241;43m.\u001b[39;49m\u001b[43m_getitem\u001b[49m\u001b[43m(\u001b[49m\u001b[38;5;28;43mself\u001b[39;49m\u001b[43m,\u001b[49m\u001b[43m \u001b[49m\u001b[43mparameters\u001b[49m\u001b[43m)\u001b[49m\n",
      "File \u001b[0;32m/Library/Frameworks/Python.framework/Versions/3.9/lib/python3.9/typing.py:421\u001b[0m, in \u001b[0;36mUnion\u001b[0;34m(self, parameters)\u001b[0m\n\u001b[1;32m    419\u001b[0m msg \u001b[38;5;241m=\u001b[39m \u001b[38;5;124m\"\u001b[39m\u001b[38;5;124mUnion[arg, ...]: each arg must be a type.\u001b[39m\u001b[38;5;124m\"\u001b[39m\n\u001b[1;32m    420\u001b[0m parameters \u001b[38;5;241m=\u001b[39m \u001b[38;5;28mtuple\u001b[39m(_type_check(p, msg) \u001b[38;5;28;01mfor\u001b[39;00m p \u001b[38;5;129;01min\u001b[39;00m parameters)\n\u001b[0;32m--> 421\u001b[0m parameters \u001b[38;5;241m=\u001b[39m \u001b[43m_remove_dups_flatten\u001b[49m\u001b[43m(\u001b[49m\u001b[43mparameters\u001b[49m\u001b[43m)\u001b[49m\n\u001b[1;32m    422\u001b[0m \u001b[38;5;28;01mif\u001b[39;00m \u001b[38;5;28mlen\u001b[39m(parameters) \u001b[38;5;241m==\u001b[39m \u001b[38;5;241m1\u001b[39m:\n\u001b[1;32m    423\u001b[0m     \u001b[38;5;28;01mreturn\u001b[39;00m parameters[\u001b[38;5;241m0\u001b[39m]\n",
      "File \u001b[0;32m/Library/Frameworks/Python.framework/Versions/3.9/lib/python3.9/typing.py:215\u001b[0m, in \u001b[0;36m_remove_dups_flatten\u001b[0;34m(parameters)\u001b[0m\n\u001b[1;32m    213\u001b[0m         params\u001b[38;5;241m.\u001b[39mappend(p)\n\u001b[1;32m    214\u001b[0m \u001b[38;5;66;03m# Weed out strict duplicates, preserving the first of each occurrence.\u001b[39;00m\n\u001b[0;32m--> 215\u001b[0m all_params \u001b[38;5;241m=\u001b[39m \u001b[38;5;28;43mset\u001b[39;49m\u001b[43m(\u001b[49m\u001b[43mparams\u001b[49m\u001b[43m)\u001b[49m\n\u001b[1;32m    216\u001b[0m \u001b[38;5;28;01mif\u001b[39;00m \u001b[38;5;28mlen\u001b[39m(all_params) \u001b[38;5;241m<\u001b[39m \u001b[38;5;28mlen\u001b[39m(params):\n\u001b[1;32m    217\u001b[0m     new_params \u001b[38;5;241m=\u001b[39m []\n",
      "\u001b[0;31mTypeError\u001b[0m: unhashable type: 'list'"
     ]
    }
   ],
   "source": [
    "from pathlib import Path\n",
    "import itertools as it\n",
    "import datetime as dt\n",
    "from dateutil import parser as dtparser\n",
    "import pandas as pd\n",
    "import fsspec\n",
    "import xarray as xr\n",
    "import matplotlib.pyplot as plt\n",
    "import hvplot.xarray\n",
    "import csv\n",
    "import echopype as ep\n",
    "import os\n",
    "import warnings\n",
    "from echopype import open_raw\n",
    "# import dask\n",
    "from dask.distributed import Client\n",
    "from tqdm import tqdm\n",
    "import requests\n",
    "from datetime import datetime\n",
    "from dateutil import parser as dtparser\n",
    "from importlib.metadata import version\n",
    "from urllib.parse import urljoin\n",
    "from datetime import timedelta\n",
    "\n",
    "\n",
    "warnings.simplefilter(\"ignore\", category=DeprecationWarning)\n",
    "fs = fsspec.filesystem('https')"
   ]
  },
  {
   "cell_type": "code",
   "execution_count": null,
   "id": "85d99b5f",
   "metadata": {},
   "outputs": [],
   "source": [
    "version('echopype')"
   ]
  },
  {
   "cell_type": "markdown",
   "id": "4661349b",
   "metadata": {},
   "source": [
    "\n",
    "Making Data folder in current working directory to store files. Please note this folder won't be pushed on github as it's included in .gitignore.\n",
    "From now on the code will use 'current_directory' variable for accessing the files, and 'data_folder' for accessing data files.\n"
   ]
  },
  {
   "cell_type": "code",
   "execution_count": null,
   "id": "edd006d6",
   "metadata": {},
   "outputs": [],
   "source": [
    "# Get the current working directory\n",
    "# current_directory = os.getcwd()\n",
    "current_directory = '/Volumes/Ishank SSD/ooi'\n",
    "\n",
    "# Define the relative path to the \"data\" folder\n",
    "data_folder = os.path.join(current_directory, 'data')\n",
    "\n",
    "# If the \"data\" folder doesn't exist, create it\n",
    "if not os.path.exists(data_folder):\n",
    "    os.makedirs(data_folder)"
   ]
  },
  {
   "cell_type": "code",
   "execution_count": null,
   "id": "68173b1b",
   "metadata": {},
   "outputs": [],
   "source": [
    "ooi_raw_url = \"https://rawdata.oceanobservatories.org/files/CE04OSPS/PC01B/ZPLSCB102_10.33.10.143/\""
   ]
  },
  {
   "cell_type": "code",
   "execution_count": null,
   "id": "d2ac5370",
   "metadata": {},
   "outputs": [],
   "source": [
    "def in_range(raw_file: str, start: datetime, end: datetime) -> bool:\n",
    "    ## Check if file url is in datetime range\n",
    "    file_name = Path(raw_file).name\n",
    "    print('File Name:', file_name)\n",
    "    \n",
    "    if 'OOI-' in file_name:\n",
    "        format_string = \"OOI-D%Y%m%d-T%H%M%S.raw\"\n",
    "        file_datetime = datetime.strptime(file_name, format_string)\n",
    "        print('Parsed Datetime:', file_datetime)\n",
    "        return start <= file_datetime <= end\n",
    "\n",
    "    return False"
   ]
  },
  {
   "cell_type": "code",
   "execution_count": null,
   "id": "39df392d",
   "metadata": {},
   "outputs": [],
   "source": [
    "start_datetime = dt.datetime(2016, 8, 21, 0, 0)\n",
    "end_datetime = dt.datetime(2016, 8, 22, 0, 0)"
   ]
  },
  {
   "cell_type": "code",
   "execution_count": null,
   "id": "8be5447f-1e32-43db-aabb-cc6471a96216",
   "metadata": {},
   "outputs": [],
   "source": [
    "desired_day_urls = []\n",
    "current_date = start_datetime\n",
    "\n",
    "while current_date <= end_datetime:\n",
    "    day_url = urljoin(\n",
    "        ooi_raw_url,\n",
    "        f\"{current_date.year}/{current_date.month:02d}/{current_date.day:02d}\"\n",
    "    )\n",
    "    desired_day_urls.append(day_url)\n",
    "    current_date += timedelta(days=1)\n"
   ]
  },
  {
   "cell_type": "code",
   "execution_count": null,
   "id": "a717189c",
   "metadata": {},
   "outputs": [],
   "source": [
    "#all_raw_file_urls = it.chain.from_iterable([fs.glob(f\"{day_url}/*.raw\") for day_url in desired_day_urls])\n",
    "all_raw_file_urls = it.chain.from_iterable([fs.glob(f\"{day_url}/*.raw\") for day_url in desired_day_urls if  requests.get(day_url).status_code ==200 ])"
   ]
  },
  {
   "cell_type": "code",
   "execution_count": null,
   "id": "77b6cc99",
   "metadata": {
    "scrolled": true
   },
   "outputs": [],
   "source": [
    "desired_raw_file_urls = list(filter(\n",
    "    lambda raw_file: in_range(\n",
    "        raw_file,\n",
    "        start_datetime-dt.timedelta(hours=0),  # 3 hour buffer to select files\n",
    "        end_datetime+dt.timedelta(hours=0)\n",
    "    ),\n",
    "    all_raw_file_urls\n",
    "))\n",
    "print(f\"There are {len(desired_raw_file_urls)} raw files within the specified datetime range.\")"
   ]
  },
  {
   "cell_type": "code",
   "execution_count": null,
   "id": "570b0874",
   "metadata": {},
   "outputs": [],
   "source": [
    "len(desired_raw_file_urls)"
   ]
  },
  {
   "cell_type": "code",
   "execution_count": null,
   "id": "d8631a83",
   "metadata": {},
   "outputs": [],
   "source": [
    "\n",
    "# Creating new CSV file for storing raw files urls\n",
    "\n",
    "csv_file_path =  os.path.join(data_folder, 'raw_files.csv')\n",
    "\n",
    "# Create an empty CSV file\n",
    "with open(csv_file_path, 'w', newline='') as csvfile:\n",
    "    # Create a CSV writer object\n",
    "    csv_writer = csv.writer(csvfile)\n",
    "\n",
    "    # Write an empty row to the CSV file (optional)\n",
    "    csv_writer.writerow([])\n",
    "\n",
    "print(f\"Empty CSV file created at: {csv_file_path}\")"
   ]
  },
  {
   "cell_type": "code",
   "execution_count": null,
   "id": "654cc2da",
   "metadata": {},
   "outputs": [],
   "source": [
    "pd.DataFrame(desired_raw_file_urls).to_csv(csv_file_path)"
   ]
  },
  {
   "cell_type": "code",
   "execution_count": null,
   "id": "80762652",
   "metadata": {},
   "outputs": [],
   "source": [
    "desired_raw_file_urls = pd.read_csv(csv_file_path)\n",
    "desired_raw_file_urls.drop(['Unnamed: 0'], axis =1 , inplace=True)\n",
    "desired_raw_file_urls = list(desired_raw_file_urls['0'])\n",
    "desired_raw_file_urls"
   ]
  },
  {
   "cell_type": "code",
   "execution_count": null,
   "id": "4a94fc84",
   "metadata": {},
   "outputs": [],
   "source": [
    "%%time\n",
    "\n",
    "client = Client()\n",
    "\n",
    "def process_raw_file(raw_file_url, output_dpath):\n",
    "    try:\n",
    "        print(f\"Processing: {raw_file_url}\")\n",
    "        ed = ep.open_raw(raw_file=raw_file_url, sonar_model='ek60', use_swap=True)\n",
    "        ed.to_zarr(save_path=data_folder, overwrite=True)\n",
    "        print(f\"Completed processing: {raw_file_url}\")\n",
    "    except Exception as e:\n",
    "        print(f\"Error processing {raw_file_url}: {e}\")\n",
    "\n",
    "\n",
    "# Create Dask delayed objects for processing each raw file\n",
    "delayed_processing = [dask.delayed(process_raw_file)(raw_file_url, data_folder) for raw_file_url in tqdm(desired_raw_file_urls)]\n",
    "\n",
    "# Trigger Dask computations\n",
    "dask.compute(*delayed_processing)"
   ]
  },
  {
   "cell_type": "code",
   "execution_count": null,
   "id": "1d722b47",
   "metadata": {},
   "outputs": [],
   "source": [
    "client.close()\n"
   ]
  },
  {
   "cell_type": "code",
   "execution_count": null,
   "id": "39e14831",
   "metadata": {
    "scrolled": true
   },
   "outputs": [],
   "source": [
    "# output_dpath = Path(data_folder)\n",
    "from pathlib import Path\n",
    "data_folder_path = Path(data_folder)  # Convert the string to a Path object\n",
    "\n",
    "print(data_folder_path)\n",
    "ed_list = []\n",
    "for converted_file in sorted(data_folder_path.glob(\"*.zarr\")):\n",
    "    print(converted_file)\n",
    "    ed_list.append(ep.open_converted(converted_file))"
   ]
  },
  {
   "cell_type": "code",
   "execution_count": null,
   "id": "e263af6c",
   "metadata": {},
   "outputs": [],
   "source": [
    "ed = ep.combine_echodata(ed_list)"
   ]
  },
  {
   "cell_type": "code",
   "execution_count": null,
   "id": "35f4ab65",
   "metadata": {},
   "outputs": [],
   "source": [
    "ds_Sv = ep.calibrate.compute_Sv(ed).compute()"
   ]
  },
  {
   "cell_type": "code",
   "execution_count": null,
   "id": "bb501e2d",
   "metadata": {},
   "outputs": [],
   "source": [
    "ds_Sv"
   ]
  },
  {
   "cell_type": "code",
   "execution_count": null,
   "id": "231fea1b",
   "metadata": {},
   "outputs": [],
   "source": []
  }
 ],
 "metadata": {
  "kernelspec": {
   "display_name": "Python 3 (ipykernel)",
   "language": "python",
   "name": "python3"
  },
  "language_info": {
   "codemirror_mode": {
    "name": "ipython",
    "version": 3
   },
   "file_extension": ".py",
   "mimetype": "text/x-python",
   "name": "python",
   "nbconvert_exporter": "python",
   "pygments_lexer": "ipython3",
   "version": "3.9.0rc2"
  }
 },
 "nbformat": 4,
 "nbformat_minor": 5
}
